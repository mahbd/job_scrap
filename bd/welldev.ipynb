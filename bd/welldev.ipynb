{
 "cells": [
  {
   "metadata": {
    "ExecuteTime": {
     "end_time": "2025-04-26T13:44:41.717790Z",
     "start_time": "2025-04-26T13:44:40.126964Z"
    }
   },
   "cell_type": "code",
   "source": [
    "import requests\n",
    "\n",
    "from bd.gemini import convert_using_gemini\n",
    "\n",
    "url = 'https://api.recruitment.welldev.io/api/publics/job_posts' # res json\n",
    "response = requests.get(url)\n",
    "jobs = response.json()"
   ],
   "id": "3ca8982efde91324",
   "outputs": [],
   "execution_count": 17
  },
  {
   "metadata": {
    "ExecuteTime": {
     "end_time": "2025-04-26T13:47:28.045891Z",
     "start_time": "2025-04-26T13:47:07.620693Z"
    }
   },
   "cell_type": "code",
   "source": "res = convert_using_gemini(jobs)",
   "id": "7c55220032b1e5a4",
   "outputs": [
    {
     "name": "stdout",
     "output_type": "stream",
     "text": [
      "None\n"
     ]
    }
   ],
   "execution_count": 21
  },
  {
   "metadata": {
    "ExecuteTime": {
     "end_time": "2025-04-26T13:55:12.309488Z",
     "start_time": "2025-04-26T13:55:12.307318Z"
    }
   },
   "cell_type": "code",
   "source": "jobs[0]['job_post_url']",
   "id": "c6e0af0284fa195c",
   "outputs": [
    {
     "data": {
      "text/plain": [
       "'https://recruitment.welldev.io/api/publics/job_posts/177b9f6a-66b9-4826-bded-50af20a102cc'"
      ]
     },
     "execution_count": 23,
     "metadata": {},
     "output_type": "execute_result"
    }
   ],
   "execution_count": 23
  },
  {
   "metadata": {},
   "cell_type": "code",
   "outputs": [],
   "execution_count": null,
   "source": "",
   "id": "feda37d05d68b4b1"
  }
 ],
 "metadata": {},
 "nbformat": 4,
 "nbformat_minor": 5
}
