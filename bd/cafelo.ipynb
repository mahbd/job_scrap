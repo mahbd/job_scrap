{
 "cells": [
  {
   "metadata": {
    "ExecuteTime": {
     "end_time": "2025-04-27T16:12:02.877082Z",
     "start_time": "2025-04-27T16:12:02.875331Z"
    }
   },
   "cell_type": "code",
   "source": [
    "import requests\n",
    "from bs4 import BeautifulSoup\n",
    "\n",
    "from bd.gemini import convert_using_gemini"
   ],
   "id": "bde43bf918d99d90",
   "outputs": [],
   "execution_count": 13
  },
  {
   "metadata": {
    "ExecuteTime": {
     "end_time": "2025-04-27T16:12:04.024238Z",
     "start_time": "2025-04-27T16:12:03.284406Z"
    }
   },
   "cell_type": "code",
   "source": [
    "base_url = \"https://ats.cefalo.com/api/v1/public/jobs\"\n",
    "res = requests.get(base_url)"
   ],
   "id": "33ebb3cf480baf62",
   "outputs": [],
   "execution_count": 14
  },
  {
   "metadata": {
    "ExecuteTime": {
     "end_time": "2025-04-27T16:12:04.036344Z",
     "start_time": "2025-04-27T16:12:04.034219Z"
    }
   },
   "cell_type": "code",
   "source": [
    "jobs = res.json()\n",
    "job_links = []\n",
    "for job in jobs:\n",
    "    slug = job['slug']\n",
    "    job_url = f\"https://career.cefalo.com/job/{slug}\"\n",
    "    job_links.append(job_url)\n",
    "job_links"
   ],
   "id": "e5e3ec9eb23f39d5",
   "outputs": [
    {
     "data": {
      "text/plain": [
       "['https://career.cefalo.com/job/fullstack-javascript-developer-21',\n",
       " 'https://career.cefalo.com/job/lead-cnet-developer-18']"
      ]
     },
     "execution_count": 15,
     "metadata": {},
     "output_type": "execute_result"
    }
   ],
   "execution_count": 15
  },
  {
   "metadata": {
    "ExecuteTime": {
     "end_time": "2025-04-27T16:12:05.364116Z",
     "start_time": "2025-04-27T16:12:04.734698Z"
    }
   },
   "cell_type": "code",
   "source": [
    "res = requests.get(job_links[0])\n",
    "soup = BeautifulSoup(res.text, \"html.parser\")"
   ],
   "id": "597966914d240d12",
   "outputs": [],
   "execution_count": 16
  },
  {
   "metadata": {
    "ExecuteTime": {
     "end_time": "2025-04-27T16:15:29.659324Z",
     "start_time": "2025-04-27T16:15:13.560532Z"
    }
   },
   "cell_type": "code",
   "source": [
    "section = soup.find(\"section\", id=\"singleJob\")\n",
    "\n",
    "res = convert_using_gemini(section)"
   ],
   "id": "2904c7e87d9ee169",
   "outputs": [],
   "execution_count": 18
  },
  {
   "metadata": {
    "ExecuteTime": {
     "end_time": "2025-04-27T16:15:43.975056Z",
     "start_time": "2025-04-27T16:15:43.972653Z"
    }
   },
   "cell_type": "code",
   "source": "res",
   "id": "8b97d61935f2a877",
   "outputs": [
    {
     "data": {
      "text/plain": [
       "{'title': 'Full-stack JavaScript Developer',\n",
       " 'url': '/job/fullstack-javascript-developer-21',\n",
       " 'beneficiaries': 'Attractive remuneration package for deserving candidates. Sound work-life balance - Regular working hours: 8 hours/day, 5 days a week. 3 weeks of paid leave per year. Flexible leave/vacation policy, including paternity and maternity leaves. All the public holidays as declared by the Bangladesh Government. Opportunity to work directly for European customers both onsite and offsite. International Training and Traveling. Bottomless foods and drinks for breakfast, lunch, and snacks at the office. Life Insurance and also Health Insurance, including spouse and children. Opportunity to work with cutting-edge tools & technologies in an international work environment. Annual performance evaluation and increment.',\n",
       " 'category': 'Full Stack development',\n",
       " 'company': 'Cefalo',\n",
       " 'date_posted': 'null',\n",
       " 'description': 'Job Context:\\nAt Cefalo, we are currently looking for a few talented and experienced full-stack JavaScript/TypeScript developers in multiple positions, including leading roles, to join our growing R&D teams. The selected software engineers will get a chance to work with the latest technology stacks, exercising industry-standard principles & best practices to build scalable, high-performance & robust software solutions for some of the big players in Europe.',\n",
       " 'is_suitable': False,\n",
       " 'job_type': 'FT',\n",
       " 'location': 'Dhaka, Bangladesh',\n",
       " 'requirements': 'Job Requirements:\\n- 3 to 10 years of professional work experience in JavaScript and TypeScript-based modern web application development\\n- Must have a good understanding of JavaScript, TypeScript, and ECMAScript 6 standard\\n- Professional-level experience in front-end JavaScript frameworks, such as Angular or React\\n- Strong understanding of front-end web architecture, component-based design, and modular development.\\n- Sound knowledge of performance optimization (i.e., change detection, lazy loading) and reducing load times.\\n- Clear concept of server-side rendering (SSR) and client-side rendering (CSR)\\n- Solid knowledge and experience in Node.js, Express.js / Nest.js are required; a good understanding of Non-blocking IO or Async Programming is a must.\\n- Proficiency in implementing RESTful APIs and web API communication is required\\n- Understanding of HTML5 and CSS3 for modern, responsive front-end web application development.\\n- Prior experience with JavaScript testing frameworks such as Mocha / Jest / Karma / Jasmine is a plus.\\n- Familiarity with containerization & orchestration tools (i.e., Docker, Kubernetes) and cloud services (i.e., AWS) is a plus!\\n- Strong problem-solving skills and analytical abilities.\\n- Fluency in written and spoken English to collaborate with foreign stakeholders and colleagues on a daily basis.\\nAdditional Job Requirements:\\n- Self-managed, independent, initiative, and proactive.\\n- Open to learning new technologies.\\n- Mindset to code and do code reviews for continuous improvement.\\n- Previous experience working in an Agile/ Scrum team is a plus.\\n- May need to travel to Europe.\\nEducational Requirements:\\n- B.Sc. / M.Sc. in Computer Science & Engineering from any reputed University or equivalent practical experience.',\n",
       " 'salary': 'null',\n",
       " 'subtitle': 'null'}"
      ]
     },
     "execution_count": 19,
     "metadata": {},
     "output_type": "execute_result"
    }
   ],
   "execution_count": 19
  },
  {
   "metadata": {},
   "cell_type": "code",
   "outputs": [],
   "execution_count": null,
   "source": "",
   "id": "f2f6b4c0f5a2163e"
  }
 ],
 "metadata": {},
 "nbformat": 4,
 "nbformat_minor": 5
}
